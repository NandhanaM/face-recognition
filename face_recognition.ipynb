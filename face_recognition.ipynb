{
 "cells": [
  {
   "cell_type": "code",
   "execution_count": 2,
   "id": "ab64eef0-cfa7-47cd-8849-76ff83f22642",
   "metadata": {},
   "outputs": [
    {
     "name": "stdout",
     "output_type": "stream",
     "text": [
      "Requirement already satisfied: cmake in c:\\users\\shobi nandu\\documents\\anaconda\\lib\\site-packages (3.25.2)\n",
      "Note: you may need to restart the kernel to use updated packages.\n"
     ]
    }
   ],
   "source": [
    "pip install cmake\n"
   ]
  },
  {
   "cell_type": "code",
   "execution_count": 11,
   "id": "83a698ef-9e06-4cff-9ba7-8bf99a3b9373",
   "metadata": {},
   "outputs": [
    {
     "name": "stdout",
     "output_type": "stream",
     "text": [
      "Microsoft Windows [Version 10.0.19044.2486]\n",
      "(c) Microsoft Corporation. All rights reserved.\n",
      "\n",
      "(C:\\Users\\Shobi Nandu\\Documents\\anaconda) C:\\Users\\Shobi Nandu\\Documents>pip install \"C:\\Users\\Shobi Nandu\\Documents\\dlib-19.22.99-cp39-cp39-win_amd64.whl\"\n",
      "Processing c:\\users\\shobi nandu\\documents\\dlib-19.22.99-cp39-cp39-win_amd64.whl\n",
      "dlib is already installed with the same version as the provided wheel. Use --force-reinstall to force an installation of the wheel.\n",
      "\n",
      "(C:\\Users\\Shobi Nandu\\Documents\\anaconda) C:\\Users\\Shobi Nandu\\Documents>"
     ]
    }
   ],
   "source": [
    "%%cmd \n",
    "pip install \"C:\\Users\\Shobi Nandu\\Documents\\dlib-19.22.99-cp39-cp39-win_amd64.whl\""
   ]
  },
  {
   "cell_type": "code",
   "execution_count": 8,
   "id": "10b78381-86b6-42f2-80d4-1f1397f349e9",
   "metadata": {},
   "outputs": [
    {
     "name": "stdout",
     "output_type": "stream",
     "text": [
      "Requirement already satisfied: face-recognition in c:\\users\\shobi nandu\\documents\\anaconda\\lib\\site-packages (1.3.0)\n",
      "Requirement already satisfied: dlib>=19.7 in c:\\users\\shobi nandu\\documents\\anaconda\\lib\\site-packages (from face-recognition) (19.22.99)\n",
      "Requirement already satisfied: Click>=6.0 in c:\\users\\shobi nandu\\documents\\anaconda\\lib\\site-packages (from face-recognition) (8.0.4)\n",
      "Requirement already satisfied: Pillow in c:\\users\\shobi nandu\\documents\\anaconda\\lib\\site-packages (from face-recognition) (9.0.1)\n",
      "Requirement already satisfied: numpy in c:\\users\\shobi nandu\\documents\\anaconda\\lib\\site-packages (from face-recognition) (1.21.5)\n",
      "Requirement already satisfied: face-recognition-models>=0.3.0 in c:\\users\\shobi nandu\\documents\\anaconda\\lib\\site-packages (from face-recognition) (0.3.0)\n",
      "Requirement already satisfied: colorama in c:\\users\\shobi nandu\\documents\\anaconda\\lib\\site-packages (from Click>=6.0->face-recognition) (0.4.4)\n",
      "Note: you may need to restart the kernel to use updated packages.\n"
     ]
    }
   ],
   "source": [
    "pip install face-recognition\n"
   ]
  },
  {
   "cell_type": "code",
   "execution_count": 9,
   "id": "f65662e7-34dd-4b98-bb31-b1504ce3d33c",
   "metadata": {},
   "outputs": [
    {
     "name": "stdout",
     "output_type": "stream",
     "text": [
      "Requirement already satisfied: opencv-python in c:\\users\\shobi nandu\\documents\\anaconda\\lib\\site-packages (4.7.0.68)\n",
      "Requirement already satisfied: numpy>=1.17.0 in c:\\users\\shobi nandu\\documents\\anaconda\\lib\\site-packages (from opencv-python) (1.21.5)\n",
      "Note: you may need to restart the kernel to use updated packages.\n"
     ]
    }
   ],
   "source": [
    "pip install opencv-python"
   ]
  },
  {
   "cell_type": "code",
   "execution_count": 10,
   "id": "ed0050a8-b41f-48e1-801a-a492d29e005b",
   "metadata": {},
   "outputs": [],
   "source": [
    "import face_recognition\n",
    "import os, sys\n",
    "import cv2\n",
    "import numpy as np\n",
    "import math\n"
   ]
  },
  {
   "cell_type": "code",
   "execution_count": 12,
   "id": "bbdeab3f-afd5-489d-aebd-021df3a702fe",
   "metadata": {},
   "outputs": [],
   "source": [
    "# Helper\n",
    "def face_confidence(face_distance, face_match_threshold=0.6):\n",
    "    range = (1.0 - face_match_threshold)\n",
    "    linear_val = (1.0 - face_distance) / (range * 2.0)\n",
    "\n",
    "    if face_distance > face_match_threshold:\n",
    "        return str(round(linear_val * 100, 2)) + '%'\n",
    "    else:\n",
    "        value = (linear_val + ((1.0 - linear_val) * math.pow((linear_val - 0.5) * 2, 0.2))) * 100\n",
    "        return str(round(value, 2)) + '%'"
   ]
  },
  {
   "cell_type": "code",
   "execution_count": 13,
   "id": "cf3e0fa9-6572-438d-825d-a988073784dc",
   "metadata": {},
   "outputs": [],
   "source": [
    "\n",
    "class FaceRecognition:\n",
    "    face_locations = []\n",
    "    face_encodings = []\n",
    "    face_names = []\n",
    "    known_face_encodings = []\n",
    "    known_face_names = []\n",
    "    process_current_frame = True\n",
    "\n",
    "    def __init__(self):\n",
    "        self.encode_faces()\n",
    "\n",
    "    def encode_faces(self):\n",
    "        for image in os.listdir('faces'):\n",
    "            face_image = face_recognition.load_image_file(f\"faces/{image}\")\n",
    "            face_encoding = face_recognition.face_encodings(face_image)[0]\n",
    "\n",
    "            self.known_face_encodings.append(face_encoding)\n",
    "            self.known_face_names.append(image)\n",
    "        print(self.known_face_names)\n",
    "\n",
    "    def run_recognition(self):\n",
    "        video_capture = cv2.VideoCapture(0)\n",
    "\n",
    "        if not video_capture.isOpened():\n",
    "            sys.exit('Video source not found...')\n",
    "\n",
    "        while True:\n",
    "            ret, frame = video_capture.read()\n",
    "\n",
    "            # Only process every other frame of video to save time\n",
    "            if self.process_current_frame:\n",
    "                # Resize frame of video to 1/4 size for faster face recognition processing\n",
    "                small_frame = cv2.resize(frame, (0, 0), fx=0.25, fy=0.25)\n",
    "\n",
    "                # Convert the image from BGR color (which OpenCV uses) to RGB color (which face_recognition uses)\n",
    "                rgb_small_frame = small_frame[:, :, ::-1]\n",
    "\n",
    "                # Find all the faces and face encodings in the current frame of video\n",
    "                self.face_locations = face_recognition.face_locations(rgb_small_frame)\n",
    "                self.face_encodings = face_recognition.face_encodings(rgb_small_frame, self.face_locations)\n",
    "\n",
    "                self.face_names = []\n",
    "                for face_encoding in self.face_encodings:\n",
    "                    # See if the face is a match for the known face(s)\n",
    "                    matches = face_recognition.compare_faces(self.known_face_encodings, face_encoding)\n",
    "                    name = \"Unknown\"\n",
    "                    confidence = '???'\n",
    "\n",
    "                    # Calculate the shortest distance to face\n",
    "                    face_distances = face_recognition.face_distance(self.known_face_encodings, face_encoding)\n",
    "\n",
    "                    best_match_index = np.argmin(face_distances)\n",
    "                    if matches[best_match_index]:\n",
    "                        name = self.known_face_names[best_match_index]\n",
    "                        confidence = face_confidence(face_distances[best_match_index])\n",
    "\n",
    "                    self.face_names.append(f'{name} ({confidence})')\n",
    "\n",
    "            self.process_current_frame = not self.process_current_frame\n",
    "            # Display the results\n",
    "            for (top, right, bottom, left), name in zip(self.face_locations, self.face_names):\n",
    "                # Scale back up face locations since the frame we detected in was scaled to 1/4 size\n",
    "                top *= 4\n",
    "                right *= 4\n",
    "                bottom *= 4\n",
    "                left *= 4\n",
    "\n",
    "                # Create the frame with the name\n",
    "                cv2.rectangle(frame, (left, top), (right, bottom), (0, 0, 255), 2)\n",
    "                cv2.rectangle(frame, (left, bottom - 35), (right, bottom), (0, 0, 255), cv2.FILLED)\n",
    "                cv2.putText(frame, name, (left + 6, bottom - 6), cv2.FONT_HERSHEY_DUPLEX, 0.8, (255, 255, 255), 1)\n",
    "\n",
    "            # Display the resulting image\n",
    "            cv2.imshow('Face Recognition', frame)\n",
    "\n",
    "            # Hit 'q' on the keyboard to quit!\n",
    "            if cv2.waitKey(1) == ord('q'):\n",
    "                break\n",
    "\n",
    "        # Release handle to the webcam\n",
    "        video_capture.release()\n",
    "        cv2.destroyAllWindows()\n",
    "\n"
   ]
  },
  {
   "cell_type": "code",
   "execution_count": 14,
   "id": "c632e1d2-ae22-493c-90ab-ee49070c8248",
   "metadata": {},
   "outputs": [
    {
     "ename": "FileNotFoundError",
     "evalue": "[WinError 3] The system cannot find the path specified: 'faces'",
     "output_type": "error",
     "traceback": [
      "\u001b[1;31m---------------------------------------------------------------------------\u001b[0m",
      "\u001b[1;31mFileNotFoundError\u001b[0m                         Traceback (most recent call last)",
      "Input \u001b[1;32mIn [14]\u001b[0m, in \u001b[0;36m<cell line: 1>\u001b[1;34m()\u001b[0m\n\u001b[0;32m      1\u001b[0m \u001b[38;5;28;01mif\u001b[39;00m \u001b[38;5;18m__name__\u001b[39m \u001b[38;5;241m==\u001b[39m \u001b[38;5;124m'\u001b[39m\u001b[38;5;124m__main__\u001b[39m\u001b[38;5;124m'\u001b[39m:\n\u001b[1;32m----> 2\u001b[0m     fr \u001b[38;5;241m=\u001b[39m \u001b[43mFaceRecognition\u001b[49m\u001b[43m(\u001b[49m\u001b[43m)\u001b[49m\n\u001b[0;32m      3\u001b[0m     fr\u001b[38;5;241m.\u001b[39mrun_recognition()\n",
      "Input \u001b[1;32mIn [13]\u001b[0m, in \u001b[0;36mFaceRecognition.__init__\u001b[1;34m(self)\u001b[0m\n\u001b[0;32m      9\u001b[0m \u001b[38;5;28;01mdef\u001b[39;00m \u001b[38;5;21m__init__\u001b[39m(\u001b[38;5;28mself\u001b[39m):\n\u001b[1;32m---> 10\u001b[0m     \u001b[38;5;28;43mself\u001b[39;49m\u001b[38;5;241;43m.\u001b[39;49m\u001b[43mencode_faces\u001b[49m\u001b[43m(\u001b[49m\u001b[43m)\u001b[49m\n",
      "Input \u001b[1;32mIn [13]\u001b[0m, in \u001b[0;36mFaceRecognition.encode_faces\u001b[1;34m(self)\u001b[0m\n\u001b[0;32m     12\u001b[0m \u001b[38;5;28;01mdef\u001b[39;00m \u001b[38;5;21mencode_faces\u001b[39m(\u001b[38;5;28mself\u001b[39m):\n\u001b[1;32m---> 13\u001b[0m     \u001b[38;5;28;01mfor\u001b[39;00m image \u001b[38;5;129;01min\u001b[39;00m \u001b[43mos\u001b[49m\u001b[38;5;241;43m.\u001b[39;49m\u001b[43mlistdir\u001b[49m\u001b[43m(\u001b[49m\u001b[38;5;124;43m'\u001b[39;49m\u001b[38;5;124;43mfaces\u001b[39;49m\u001b[38;5;124;43m'\u001b[39;49m\u001b[43m)\u001b[49m:\n\u001b[0;32m     14\u001b[0m         face_image \u001b[38;5;241m=\u001b[39m face_recognition\u001b[38;5;241m.\u001b[39mload_image_file(\u001b[38;5;124mf\u001b[39m\u001b[38;5;124m\"\u001b[39m\u001b[38;5;124mfaces/\u001b[39m\u001b[38;5;132;01m{\u001b[39;00mimage\u001b[38;5;132;01m}\u001b[39;00m\u001b[38;5;124m\"\u001b[39m)\n\u001b[0;32m     15\u001b[0m         face_encoding \u001b[38;5;241m=\u001b[39m face_recognition\u001b[38;5;241m.\u001b[39mface_encodings(face_image)[\u001b[38;5;241m0\u001b[39m]\n",
      "\u001b[1;31mFileNotFoundError\u001b[0m: [WinError 3] The system cannot find the path specified: 'faces'"
     ]
    }
   ],
   "source": [
    "if __name__ == '__main__':\n",
    "    fr = FaceRecognition()\n",
    "    fr.run_recognition()"
   ]
  },
  {
   "cell_type": "code",
   "execution_count": null,
   "id": "70dc809f-2c29-4360-838b-804813f98e16",
   "metadata": {},
   "outputs": [],
   "source": []
  }
 ],
 "metadata": {
  "kernelspec": {
   "display_name": "Python 3 (ipykernel)",
   "language": "python",
   "name": "python3"
  },
  "language_info": {
   "codemirror_mode": {
    "name": "ipython",
    "version": 3
   },
   "file_extension": ".py",
   "mimetype": "text/x-python",
   "name": "python",
   "nbconvert_exporter": "python",
   "pygments_lexer": "ipython3",
   "version": "3.9.12"
  }
 },
 "nbformat": 4,
 "nbformat_minor": 5
}
